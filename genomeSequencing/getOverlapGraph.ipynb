{
 "cells": [
  {
   "cell_type": "code",
   "execution_count": null,
   "metadata": {
    "collapsed": true
   },
   "outputs": [],
   "source": [
    "# UCSD coursera course - Genome Sequencing (Bioinformatics II)\n",
    "# Code Challenge: Solve the Overlap Graph Problem (restated below).\n",
    "# Input: A collection Patterns of k-mers.\n",
    "# Output: The overlap graph Overlap(Patterns), in the form of an adjacency list. (You may return the edges in any order.)\n",
    "# Sample Input:\n",
    "# ATGCG\n",
    "# GCATG\n",
    "# CATGC\n",
    "# AGGCA\n",
    "# GGCAT\n",
    "# Sample Output:\n",
    "# CATGC -> ATGCG\n",
    "# GCATG -> CATGC\n",
    "# GGCAT -> GCATG\n",
    "# AGGCA -> GGCAT"
   ]
  },
  {
   "cell_type": "code",
   "execution_count": 21,
   "metadata": {
    "collapsed": false
   },
   "outputs": [],
   "source": [
    "def solveOverlappingGraph(patterns):\n",
    "    edgesAsAdjacency = {}\n",
    "    for p1 in patterns:\n",
    "        for p2 in patterns:\n",
    "            if((p1[1:] == p2[:-1])) & (p1!= p2):\n",
    "                if(p1 in edgesAsAdjacency):\n",
    "                    edgesAsAdjacency[p1].extend([p2])\n",
    "                    print \"abc\"\n",
    "                else:\n",
    "                    edgesAsAdjacency[p1] = [p2]\n",
    "    return edgesAsAdjacency\n",
    "\n",
    "def main():\n",
    "    patterns = []\n",
    "    fn = open('/Users/tingliu/Downloads/dataset_198_10 (7).txt')\n",
    "    for l in fn:\n",
    "        patterns.append(l.strip())\n",
    "    edges = solveOverlappingGraph(patterns)\n",
    "    with open('test1.txt', 'w') as fp:\n",
    "        for f in edges:\n",
    "            ts = edges[f]\n",
    "            for t in ts:\n",
    "                output = f + \" -> \" + t + \"\\n\"\n",
    "                fp.write(output)\n",
    "\n",
    "if __name__ == \"__main__\":\n",
    "    main()\n",
    "            "
   ]
  },
  {
   "cell_type": "code",
   "execution_count": null,
   "metadata": {
    "collapsed": true
   },
   "outputs": [],
   "source": []
  }
 ],
 "metadata": {
  "kernelspec": {
   "display_name": "Python 2",
   "language": "python",
   "name": "python2"
  },
  "language_info": {
   "codemirror_mode": {
    "name": "ipython",
    "version": 2
   },
   "file_extension": ".py",
   "mimetype": "text/x-python",
   "name": "python",
   "nbconvert_exporter": "python",
   "pygments_lexer": "ipython2",
   "version": "2.7.12"
  }
 },
 "nbformat": 4,
 "nbformat_minor": 0
}
