{
 "cells": [
  {
   "cell_type": "code",
   "execution_count": 3,
   "metadata": {
    "collapsed": false
   },
   "outputs": [],
   "source": [
    "# Implement betterBWMatching using by properly generating the count matrix first\n",
    "# In the previous version, I generated the count value on the fly\n",
    "\n",
    "# Code Challenge: Implement BetterBWMatching.\n",
    "#      Input: A string BWT(Text) followed by a collection of strings Patterns.\n",
    "#      Output: A list of integers, where the i-th integer corresponds to the number of substring matches of the i-th member of Patterns\n",
    "#      in Text.\n",
    "\n",
    "# Sample Input:\n",
    "# GGCGCCGC$TAGTCACACACGCCGTA\n",
    "# ACC CCG CAG\n",
    "\n",
    "# Sample Output:\n",
    "# 1 2 1"
   ]
  },
  {
   "cell_type": "code",
   "execution_count": 77,
   "metadata": {
    "collapsed": false
   },
   "outputs": [],
   "source": [
    "import numpy as np\n",
    "\n",
    "def buildCountMatrix(lastColumn, alphabet):\n",
    "    countMatrix = np.zeros(shape = ( len(lastColumn) + 1, len(alphabet)))\n",
    "    for i, char in enumerate(lastColumn, start = 1):\n",
    "        countMatrix[i,:] =  countMatrix[i-1,:]\n",
    "        countMatrix[i, alphabet.index(char)] = countMatrix[i-1, alphabet.index(char)] + 1\n",
    "    return countMatrix\n",
    "\n",
    "def betterBWMatching(firstOccurrence, lastCol, pattern, countMatrix, alphabet):\n",
    "    top = 0\n",
    "    bottom = len(lastCol)-1\n",
    "    while top <= bottom:\n",
    "        if len(pattern) > 0:\n",
    "            symbol = pattern[-1]\n",
    "            pattern = pattern[0:-1]\n",
    "            if symbol in lastCol[top:(bottom+1)]:\n",
    "                a = alphabet.index(symbol)\n",
    "                top = firstOccurrence[a] + countMatrix[top][a]\n",
    "                bottom = firstOccurrence[a] + countMatrix[bottom+1][a] - 1\n",
    "                \n",
    "            else:\n",
    "                return 0\n",
    "        else:\n",
    "            return bottom - top + 1\n",
    "                                                                         \n",
    "def findFirstOccurrence(alphabet, firstColumn):\n",
    "    firstOccurrence = []\n",
    "    symbols = list(set(firstColumn))\n",
    "    for symbol in alphabet:\n",
    "        firstOccurrence.append(firstColumn.find(symbol))\n",
    "    return firstOccurrence\n",
    "                                                                         \n",
    "def main():\n",
    "    f = open('/Users/tingliu/Downloads/dataset_301_7 (3).txt', 'r')\n",
    "    text = f.readline().strip()\n",
    "    firstColumn = ''.join(sorted(text))\n",
    "    alphabet = list(set(text))\n",
    "    countMatrix = buildCountMatrix(text, alphabet).astype(int)\n",
    "    for l in f:\n",
    "        patterns = (l.rstrip().split(' '))\n",
    "    firstOccurrence = findFirstOccurrence(alphabet, firstColumn)\n",
    "    res = []\n",
    "    for i, pattern in enumerate(patterns):\n",
    "        res.append(betterBWMatching(firstOccurrence, text, pattern, countMatrix, alphabet))\n",
    "    fp =  open('/Users/tingliu/Downloads/res2.txt', 'w')\n",
    "    for r in res:\n",
    "        fp.write(\"%s \" % r)\n",
    "        \n",
    "if __name__ == \"__main__\":\n",
    "    main()                                                                        "
   ]
  },
  {
   "cell_type": "code",
   "execution_count": null,
   "metadata": {
    "collapsed": true
   },
   "outputs": [],
   "source": []
  },
  {
   "cell_type": "code",
   "execution_count": null,
   "metadata": {
    "collapsed": true
   },
   "outputs": [],
   "source": []
  }
 ],
 "metadata": {
  "kernelspec": {
   "display_name": "Python 2",
   "language": "python",
   "name": "python2"
  },
  "language_info": {
   "codemirror_mode": {
    "name": "ipython",
    "version": 2
   },
   "file_extension": ".py",
   "mimetype": "text/x-python",
   "name": "python",
   "nbconvert_exporter": "python",
   "pygments_lexer": "ipython2",
   "version": "2.7.12"
  }
 },
 "nbformat": 4,
 "nbformat_minor": 0
}
