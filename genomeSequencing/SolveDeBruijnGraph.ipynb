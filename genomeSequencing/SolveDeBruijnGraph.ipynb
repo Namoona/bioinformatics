{
 "cells": [
  {
   "cell_type": "code",
   "execution_count": 1,
   "metadata": {
    "collapsed": true
   },
   "outputs": [],
   "source": [
    "#Code Challenge: Solve the De Bruijn Graph from a String Problem.\n",
    "#      Input: An integer k and a string Text.\n",
    "#      Output: DeBruijnk(Text), in the form of an adjacency list.\n",
    "# Sample Input:\n",
    "# 4\n",
    "# AAGATTCTCTAAGA\n",
    "\n",
    "# Sample Output:\n",
    "# AAG -> AGA,AGA\n",
    "# AGA -> GAT\n",
    "# ATT -> TTC\n",
    "# CTA -> TAA\n",
    "# CTC -> TCT\n",
    "# GAT -> ATT\n",
    "# TAA -> AAG\n",
    "# TCT -> CTA,CTC\n",
    "# TTC -> TCT"
   ]
  },
  {
   "cell_type": "code",
   "execution_count": 21,
   "metadata": {
    "collapsed": false
   },
   "outputs": [],
   "source": [
    "def getDeBruijnGraph(k, text):\n",
    "    debruijn = {}\n",
    "    totalNumVertices = len(text) - (k-1);\n",
    "    for i in range(totalNumVertices):\n",
    "        vertexFrom = text[i:(i+k-1)]\n",
    "        vertextTo = text[(i+1):(i+k)]\n",
    "        if(vertexFrom in debruijn):\n",
    "            debruijn[vertexFrom].extend([vertextTo])\n",
    "        else:\n",
    "            debruijn[vertexFrom] = [vertextTo]\n",
    "    return debruijn\n",
    "    \n",
    "def main():\n",
    "    f = open('/Users/tingliu/Downloads/dataset_199_6 (1).txt')\n",
    "    k = int(f.readline().strip())\n",
    "    text = f.readline().strip()\n",
    "    debruijn = getDeBruijnGraph(k, text)\n",
    "    with open('test1.txt', 'w') as fp:\n",
    "        for f in debruijn:\n",
    "            ts = sorted(debruijn[f])\n",
    "            output = f + \" -> \" + ts[0]\n",
    "            if(len(ts) > 0):\n",
    "                for t in ts[1:]:\n",
    "                    output = output + \",\" + t \n",
    "            output = output + \"\\n\"\n",
    "            fp.write(output)\n",
    "                \n",
    "if __name__ == \"__main__\":\n",
    "    main()"
   ]
  },
  {
   "cell_type": "code",
   "execution_count": null,
   "metadata": {
    "collapsed": true
   },
   "outputs": [],
   "source": []
  },
  {
   "cell_type": "code",
   "execution_count": null,
   "metadata": {
    "collapsed": true
   },
   "outputs": [],
   "source": []
  }
 ],
 "metadata": {
  "kernelspec": {
   "display_name": "Python 2",
   "language": "python",
   "name": "python2"
  },
  "language_info": {
   "codemirror_mode": {
    "name": "ipython",
    "version": 2
   },
   "file_extension": ".py",
   "mimetype": "text/x-python",
   "name": "python",
   "nbconvert_exporter": "python",
   "pygments_lexer": "ipython2",
   "version": "2.7.12"
  }
 },
 "nbformat": 4,
 "nbformat_minor": 0
}
